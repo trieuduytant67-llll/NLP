{
  "nbformat": 4,
  "nbformat_minor": 0,
  "metadata": {
    "colab": {
      "provenance": []
    },
    "kernelspec": {
      "name": "python3",
      "display_name": "Python 3"
    },
    "language_info": {
      "name": "python"
    }
  },
  "cells": [
    {
      "cell_type": "code",
      "execution_count": 2,
      "metadata": {
        "collapsed": true,
        "id": "uS7mRlUfeoJe"
      },
      "outputs": [],
      "source": [
        "# !pip install torch torchvision torchaudio"
      ]
    },
    {
      "cell_type": "markdown",
      "source": [
        "# Task 1.1: Tạo Tensor"
      ],
      "metadata": {
        "id": "4nkSOGaQzFf9"
      }
    },
    {
      "cell_type": "code",
      "source": [
        "import torch\n",
        "import numpy as np\n",
        "\n",
        "data = [[1, 2], [3, 4]]\n",
        "\n",
        "# Tensor từ list\n",
        "x_data = torch.tensor(data)\n",
        "print(f\"Tensor từ list:\\n{x_data}\\n\")\n",
        "\n",
        "# Tensor từ NumPy array\n",
        "np_array = np.array(data)\n",
        "x_np = torch.from_numpy(np_array)\n",
        "print(f\"Tensor từ NumPy array:\\n{x_np}\\n\")\n",
        "\n",
        "# Tensor toàn 1, cùng shape với x_data\n",
        "x_ones = torch.ones_like(x_data)\n",
        "print(f\"Ones Tensor:\\n{x_ones}\\n\")\n",
        "\n",
        "# Tensor ngẫu nhiên, float\n",
        "x_rand = torch.rand_like(x_data, dtype=torch.float)\n",
        "print(f\"Random Tensor:\\n{x_rand}\\n\")\n",
        "\n",
        "# In ra shape, dtype, device\n",
        "print(f\"Shape của tensor: {x_rand.shape}\")\n",
        "print(f\"Datatype của tensor: {x_rand.dtype}\")\n",
        "print(f\"Device lưu trữ tensor: {x_rand.device}\")\n"
      ],
      "metadata": {
        "colab": {
          "base_uri": "https://localhost:8080/"
        },
        "id": "8LG4xyh_wI20",
        "outputId": "64279f9a-55f8-499f-ce42-720e123a2e31"
      },
      "execution_count": 3,
      "outputs": [
        {
          "output_type": "stream",
          "name": "stdout",
          "text": [
            "Tensor từ list:\n",
            "tensor([[1, 2],\n",
            "        [3, 4]])\n",
            "\n",
            "Tensor từ NumPy array:\n",
            "tensor([[1, 2],\n",
            "        [3, 4]])\n",
            "\n",
            "Ones Tensor:\n",
            "tensor([[1, 1],\n",
            "        [1, 1]])\n",
            "\n",
            "Random Tensor:\n",
            "tensor([[0.5773, 0.0550],\n",
            "        [0.0607, 0.3359]])\n",
            "\n",
            "Shape của tensor: torch.Size([2, 2])\n",
            "Datatype của tensor: torch.float32\n",
            "Device lưu trữ tensor: cpu\n"
          ]
        }
      ]
    },
    {
      "cell_type": "markdown",
      "source": [
        "# Task 1.2: Các phép toán trên Tensor"
      ],
      "metadata": {
        "id": "4gmqNmR7zbIB"
      }
    },
    {
      "cell_type": "code",
      "source": [
        "# Cộng tensor với chính nó\n",
        "print(x_data + x_data)\n",
        "\n",
        "# Nhân tensor với 5\n",
        "print(x_data * 5)\n",
        "\n",
        "# Nhân ma trận x_data với x_data.T\n",
        "print(x_data @ x_data.T)\n"
      ],
      "metadata": {
        "colab": {
          "base_uri": "https://localhost:8080/"
        },
        "id": "tatiRdFtyeGI",
        "outputId": "9cb92f65-8718-4d33-a7d8-8af7bba9ff56"
      },
      "execution_count": 4,
      "outputs": [
        {
          "output_type": "stream",
          "name": "stdout",
          "text": [
            "tensor([[2, 4],\n",
            "        [6, 8]])\n",
            "tensor([[ 5, 10],\n",
            "        [15, 20]])\n",
            "tensor([[ 5, 11],\n",
            "        [11, 25]])\n"
          ]
        }
      ]
    },
    {
      "cell_type": "markdown",
      "source": [
        "# Task 1.3: Indexing và Slicing"
      ],
      "metadata": {
        "id": "mXZqONJ2zhox"
      }
    },
    {
      "cell_type": "code",
      "source": [
        "# Hàng đầu tiên\n",
        "print(x_data[0])\n",
        "\n",
        "# Cột thứ hai\n",
        "print(x_data[:, 1])\n",
        "\n",
        "# Giá trị ở hàng thứ hai, cột thứ hai\n",
        "print(x_data[1, 1])\n"
      ],
      "metadata": {
        "colab": {
          "base_uri": "https://localhost:8080/"
        },
        "id": "kObiJ9NQygXr",
        "outputId": "4e4b3a72-a004-4d01-840a-dca856a7c0f8"
      },
      "execution_count": 5,
      "outputs": [
        {
          "output_type": "stream",
          "name": "stdout",
          "text": [
            "tensor([1, 2])\n",
            "tensor([2, 4])\n",
            "tensor(4)\n"
          ]
        }
      ]
    },
    {
      "cell_type": "markdown",
      "source": [
        "# Task 1.4: Thay đổi hình dạng Tensor"
      ],
      "metadata": {
        "id": "hO8h_2SwzyFj"
      }
    },
    {
      "cell_type": "code",
      "source": [
        "x = torch.rand(4, 4)\n",
        "x_reshaped = x.view(16, 1)  #x.reshape(16, 1)\n",
        "print(x_reshaped.shape)\n"
      ],
      "metadata": {
        "colab": {
          "base_uri": "https://localhost:8080/"
        },
        "id": "xCycHaqQyil3",
        "outputId": "de1eac1d-0d12-453e-942c-1b28977673f8"
      },
      "execution_count": 11,
      "outputs": [
        {
          "output_type": "stream",
          "name": "stdout",
          "text": [
            "torch.Size([16, 1])\n"
          ]
        }
      ]
    },
    {
      "cell_type": "markdown",
      "source": [
        "# Task 2.1: Thực hành với autograd"
      ],
      "metadata": {
        "id": "BtzxMBbEz6Ej"
      }
    },
    {
      "cell_type": "code",
      "source": [
        "x = torch.ones(1, requires_grad=True)\n",
        "y = x + 2\n",
        "z = y * y * 3\n",
        "z.backward()  # dz/dx được tính\n",
        "\n",
        "print(x.grad)  # 18, vì dz/dx = 6*(x+2), x=1\n",
        "# Khi tính gradient lần đầu, PyTorch xóa graph tính toán để tiết kiệm bộ nhớ.\n",
        "# Gọi z.backward() lần nữa sẽ gây lỗi \"RuntimeError: Trying to backward through the graph a second time.\"\"\n",
        "# Nếu muốn tính lại nhiều lần, dùng z.backward(retain_graph=True)."
      ],
      "metadata": {
        "colab": {
          "base_uri": "https://localhost:8080/"
        },
        "id": "uwBOOGPvylMB",
        "outputId": "0f9b04be-8be6-4b35-8b90-85ee420ec8e2"
      },
      "execution_count": 12,
      "outputs": [
        {
          "output_type": "stream",
          "name": "stdout",
          "text": [
            "tensor([18.])\n"
          ]
        }
      ]
    },
    {
      "cell_type": "markdown",
      "source": [
        "# Task 3.1: Lớp nn.Linear"
      ],
      "metadata": {
        "id": "VORKLJmaz8Tg"
      }
    },
    {
      "cell_type": "code",
      "source": [
        "linear_layer = torch.nn.Linear(in_features=5, out_features=2)\n",
        "input_tensor = torch.randn(3, 5)\n",
        "output = linear_layer(input_tensor)\n",
        "\n",
        "print(input_tensor.shape)  # (3,5)\n",
        "print(output.shape)        # (3,2)\n"
      ],
      "metadata": {
        "colab": {
          "base_uri": "https://localhost:8080/"
        },
        "id": "JsNT8JW9yoC7",
        "outputId": "42228129-fe6f-44f5-d52a-cbf5e6402857"
      },
      "execution_count": 8,
      "outputs": [
        {
          "output_type": "stream",
          "name": "stdout",
          "text": [
            "torch.Size([3, 5])\n",
            "torch.Size([3, 2])\n"
          ]
        }
      ]
    },
    {
      "cell_type": "markdown",
      "source": [
        "# Task 3.2: Lớp nn.Embedding"
      ],
      "metadata": {
        "id": "F3_lpILF0gkF"
      }
    },
    {
      "cell_type": "code",
      "source": [
        "embedding_layer = torch.nn.Embedding(num_embeddings=10, embedding_dim=3)\n",
        "input_indices = torch.LongTensor([1, 5, 0, 8])\n",
        "embeddings = embedding_layer(input_indices)\n",
        "\n",
        "print(input_indices.shape)  # (4,)\n",
        "print(embeddings.shape)     # (4,3)\n"
      ],
      "metadata": {
        "colab": {
          "base_uri": "https://localhost:8080/"
        },
        "id": "CYZXQRoGyscR",
        "outputId": "1452f9f2-16d9-446a-f212-db17d66534c1"
      },
      "execution_count": 9,
      "outputs": [
        {
          "output_type": "stream",
          "name": "stdout",
          "text": [
            "torch.Size([4])\n",
            "torch.Size([4, 3])\n"
          ]
        }
      ]
    },
    {
      "cell_type": "markdown",
      "source": [
        "# Task 3.3: Kết hợp thành một nn.Module"
      ],
      "metadata": {
        "id": "9TqBNxTK0ilh"
      }
    },
    {
      "cell_type": "code",
      "source": [
        "from torch import nn\n",
        "\n",
        "class MyFirstModel(nn.Module):\n",
        "    def __init__(self, vocab_size, embedding_dim, hidden_dim, output_dim):\n",
        "        super(MyFirstModel, self).__init__()\n",
        "        self.embedding = nn.Embedding(vocab_size, embedding_dim)\n",
        "        self.linear = nn.Linear(embedding_dim, hidden_dim)\n",
        "        self.activation = nn.ReLU()\n",
        "        self.output_layer = nn.Linear(hidden_dim, output_dim)\n",
        "\n",
        "    def forward(self, indices):\n",
        "        embeds = self.embedding(indices)\n",
        "        hidden = self.activation(self.linear(embeds))\n",
        "        output = self.output_layer(hidden)\n",
        "        return output\n",
        "\n",
        "model = MyFirstModel(vocab_size=100, embedding_dim=16, hidden_dim=8, output_dim=2)\n",
        "input_data = torch.LongTensor([[1, 2, 5, 9]])\n",
        "output_data = model(input_data)\n",
        "print(output_data.shape)  # (1,4,2)\n"
      ],
      "metadata": {
        "colab": {
          "base_uri": "https://localhost:8080/"
        },
        "id": "En2jUbityu_3",
        "outputId": "d00de76d-1dae-4fa0-ca7d-85b1d904b5cf"
      },
      "execution_count": 10,
      "outputs": [
        {
          "output_type": "stream",
          "name": "stdout",
          "text": [
            "torch.Size([1, 4, 2])\n"
          ]
        }
      ]
    }
  ]
}